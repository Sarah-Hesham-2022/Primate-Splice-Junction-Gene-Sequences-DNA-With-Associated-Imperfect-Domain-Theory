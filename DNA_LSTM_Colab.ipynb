{
  "nbformat": 4,
  "nbformat_minor": 0,
  "metadata": {
    "colab": {
      "provenance": [],
      "collapsed_sections": []
    },
    "kernelspec": {
      "name": "python3",
      "display_name": "Python 3"
    },
    "language_info": {
      "name": "python"
    },
    "accelerator": "GPU"
  },
  "cells": [
    {
      "cell_type": "code",
      "execution_count": null,
      "metadata": {
        "id": "Pc3609sneXtA"
      },
      "outputs": [],
      "source": [
        "#this is used to produce a random element from the arrays\n",
        "import numpy as np\n",
        "\n",
        "#for our model building\n",
        "import tensorflow as tf\n",
        "from tensorflow.keras.models import Sequential\n",
        "from tensorflow.keras.layers import Dense\n",
        "from tensorflow.keras.layers import LSTM\n",
        "from tensorflow.keras.layers import Bidirectional\n",
        "from tensorflow.keras.layers import Embedding\n",
        "from tensorflow.keras.preprocessing import sequence\n",
        "\n",
        "from sklearn.model_selection import train_test_split #for splitting our data\n"
      ]
    },
    {
      "cell_type": "code",
      "source": [
        "# fix random seed for reproducibility\n",
        "tf.random.set_seed(10)"
      ],
      "metadata": {
        "id": "r2sk7tMlek4-"
      },
      "execution_count": null,
      "outputs": []
    },
    {
      "cell_type": "code",
      "source": [
        "pip install xlsxwriter"
      ],
      "metadata": {
        "colab": {
          "base_uri": "https://localhost:8080/"
        },
        "id": "TLWVPABHes-7",
        "outputId": "357307c1-785f-4695-b603-1fa6efcfb430"
      },
      "execution_count": null,
      "outputs": [
        {
          "output_type": "stream",
          "name": "stdout",
          "text": [
            "Looking in indexes: https://pypi.org/simple, https://us-python.pkg.dev/colab-wheels/public/simple/\n",
            "Requirement already satisfied: xlsxwriter in /usr/local/lib/python3.7/dist-packages (3.0.3)\n"
          ]
        }
      ]
    },
    {
      "cell_type": "code",
      "source": [
        "# Writing to an excel \n",
        "# sheet using Python\n",
        "#If you don't have it ,open console in python and type : \n",
        "\n",
        "#pip install XlsxWriter\n",
        "\n",
        "import xlsxwriter\n",
        "from xlsxwriter import Workbook"
      ],
      "metadata": {
        "id": "gMCWyzyaenqg"
      },
      "execution_count": null,
      "outputs": []
    },
    {
      "cell_type": "code",
      "source": [
        "# Workbook is created\n",
        "workbook = xlsxwriter.Workbook('Sheet Numerical Data.xlsx')\n",
        "  \n",
        "# add_sheet is used to create sheet.\n",
        "sheet1 = workbook.add_worksheet()\n",
        "\n",
        "#sheet1.write(row, col, data)"
      ],
      "metadata": {
        "id": "IuFChdM-eyPe"
      },
      "execution_count": null,
      "outputs": []
    },
    {
      "cell_type": "code",
      "source": [
        "myFile=open(\"/content/sample_data/Data.data\")\n",
        "\n",
        "line=myFile.readline()"
      ],
      "metadata": {
        "id": "N88sdxege2CM"
      },
      "execution_count": null,
      "outputs": []
    },
    {
      "cell_type": "code",
      "source": [
        "sheet1.write(0,0,\"Prediction\")\n",
        "\n",
        "colCount=1\n",
        "\n",
        "rowCount=1\n"
      ],
      "metadata": {
        "id": "hC7jDV76fAmD"
      },
      "execution_count": null,
      "outputs": []
    },
    {
      "cell_type": "code",
      "source": [
        "#Here I am reperesenting each index as a column with its index in the sequence DNA\n",
        "while(colCount < 61):\n",
        "\n",
        "    sheet1.write(0,colCount,colCount-1)\n",
        "    colCount= colCount +1\n",
        "\n",
        "colCount=0"
      ],
      "metadata": {
        "id": "r-NWSUaVfDSy"
      },
      "execution_count": null,
      "outputs": []
    },
    {
      "cell_type": "code",
      "source": [
        "#It is mentioned in the data description that there are no empty sets, but there as some inaccurate sets\n",
        "#and they mentioned that letter D was either an A,G,T in the original data set but they are not so sure\n",
        "#and same with N,S and R\n",
        "#I solved this problem by using randomization\n",
        "#which is substituting this set with any of the suspicious letters randomly\n",
        "\n",
        "d=[0,2,3]\n",
        "n=[0,1,2,3]\n",
        "s=[1,2]\n",
        "r=[0,2]\n"
      ],
      "metadata": {
        "id": "aorUKthxfGGB"
      },
      "execution_count": null,
      "outputs": []
    },
    {
      "cell_type": "code",
      "source": [
        "#here I am preparing my data for the model to be only numeric\n",
        "#EI =0\n",
        "#IE =1\n",
        "#A  =0\n",
        "#C  =1\n",
        "#G  =2\n",
        "#C  =3\n",
        "\n",
        "while(line):\n",
        "\n",
        "    if(line[0:2]==\"EI\"):\n",
        "        sheet1.write(rowCount,0,0)\n",
        "    elif(line[0:2]==\"IE\"):\n",
        "        sheet1.write(rowCount,0,1)\n",
        "\n",
        "    seq=line[39:100]\n",
        "\n",
        "    for i in range(len(seq)-1):\n",
        "        if(seq[i]==\"A\"):\n",
        "            sheet1.write(rowCount,i+1,0)\n",
        "        elif(seq[i]==\"C\"):\n",
        "            sheet1.write(rowCount,i+1,1)\n",
        "        elif(seq[i]==\"G\"):\n",
        "            sheet1.write(rowCount,i+1,2)\n",
        "        elif(seq[i]==\"T\"):\n",
        "            sheet1.write(rowCount,i+1,3)\n",
        "        elif(seq[i]==\"D\"):\n",
        "            sheet1.write(rowCount,i+1,np.random.choice(d, size=1))\n",
        "        elif(seq[i]==\"N\"):\n",
        "            sheet1.write(rowCount,i+1,np.random.choice(n, size=1))\n",
        "        elif(seq[i]==\"S\"):\n",
        "            sheet1.write(rowCount,i+1,np.random.choice(s, size=1))\n",
        "        elif(seq[i]==\"R\"):\n",
        "            sheet1.write(rowCount,i+1,np.random.choice(r, size=1))\n",
        "\n",
        "    rowCount=rowCount+1\n",
        "    line=myFile.readline()\n"
      ],
      "metadata": {
        "id": "ccb9udpPfIyS"
      },
      "execution_count": null,
      "outputs": []
    },
    {
      "cell_type": "code",
      "source": [
        "#Essential to save the work\n",
        "workbook.close()"
      ],
      "metadata": {
        "id": "Om0nI9QyfMoc"
      },
      "execution_count": null,
      "outputs": []
    },
    {
      "cell_type": "code",
      "source": [
        "#Importing the dataset\n",
        "import pandas as pd\n",
        "data = pd.read_excel(\"Sheet Numerical Data.xlsx\")\n",
        "data.to_csv(\"Sheet Numerical Data.csv\")\n"
      ],
      "metadata": {
        "id": "KoRJgd7hfPKo"
      },
      "execution_count": null,
      "outputs": []
    },
    {
      "cell_type": "code",
      "source": [
        "import pandas as pd\n",
        "data = pd.read_csv(\"Sheet Numerical Data.csv\")\n",
        "\n",
        "features=[]\n",
        "\n",
        "for i in range(60):\n",
        "    features.append(str(i))"
      ],
      "metadata": {
        "id": "E2j3eb1ifSXf"
      },
      "execution_count": null,
      "outputs": []
    },
    {
      "cell_type": "code",
      "source": [
        "#I am doing this with the X as I have named my columns as indices of the sequences\n",
        "X = data.loc[:, features]\n",
        "\n",
        "y = data.loc[:, [\"Prediction\"]]\n",
        "\n",
        "# load the dataset \n",
        "X_train,X_test,y_train,y_test=train_test_split(X,y,test_size=0.3,shuffle=True)"
      ],
      "metadata": {
        "id": "ETP9XkStfVV4"
      },
      "execution_count": null,
      "outputs": []
    },
    {
      "cell_type": "code",
      "source": [
        "# create the model\n",
        "embedding_vecor_length = 32\n",
        "model = Sequential()\n",
        "model.add(Embedding(5000, embedding_vecor_length, input_length=60))\n",
        "model.add(Bidirectional(LSTM(200, dropout=0.2, recurrent_dropout=0.2)))\n",
        "model.add(Dense(1, activation='sigmoid'))\n",
        "model.compile(loss='binary_crossentropy', optimizer='adam', metrics=['accuracy'])\n",
        "print(model.summary())\n",
        "model.fit(X_train, y_train, epochs=100,  validation_data = (X_test, y_test),shuffle=True,batch_size=20)"
      ],
      "metadata": {
        "colab": {
          "base_uri": "https://localhost:8080/"
        },
        "id": "mpAiPcFIfalD",
        "outputId": "7185ba02-ef2b-4b23-cd8f-c5d26397c6d0"
      },
      "execution_count": null,
      "outputs": [
        {
          "output_type": "stream",
          "name": "stderr",
          "text": [
            "WARNING:tensorflow:Layer lstm_5 will not use cuDNN kernels since it doesn't meet the criteria. It will use a generic GPU kernel as fallback when running on GPU.\n",
            "WARNING:tensorflow:Layer lstm_5 will not use cuDNN kernels since it doesn't meet the criteria. It will use a generic GPU kernel as fallback when running on GPU.\n",
            "WARNING:tensorflow:Layer lstm_5 will not use cuDNN kernels since it doesn't meet the criteria. It will use a generic GPU kernel as fallback when running on GPU.\n"
          ]
        },
        {
          "output_type": "stream",
          "name": "stdout",
          "text": [
            "Model: \"sequential_7\"\n",
            "_________________________________________________________________\n",
            " Layer (type)                Output Shape              Param #   \n",
            "=================================================================\n",
            " embedding_3 (Embedding)     (None, 60, 32)            160000    \n",
            "                                                                 \n",
            " bidirectional_5 (Bidirectio  (None, 400)              372800    \n",
            " nal)                                                            \n",
            "                                                                 \n",
            " dense_5 (Dense)             (None, 1)                 401       \n",
            "                                                                 \n",
            "=================================================================\n",
            "Total params: 533,201\n",
            "Trainable params: 533,201\n",
            "Non-trainable params: 0\n",
            "_________________________________________________________________\n",
            "None\n",
            "Epoch 1/100\n",
            "54/54 [==============================] - 33s 519ms/step - loss: 0.5642 - accuracy: 0.7104 - val_loss: 0.5644 - val_accuracy: 0.7072\n",
            "Epoch 2/100\n",
            "54/54 [==============================] - 27s 507ms/step - loss: 0.4857 - accuracy: 0.7989 - val_loss: 0.4610 - val_accuracy: 0.8200\n",
            "Epoch 3/100\n",
            "54/54 [==============================] - 27s 509ms/step - loss: 0.3869 - accuracy: 0.8436 - val_loss: 0.3356 - val_accuracy: 0.8677\n",
            "Epoch 4/100\n",
            "54/54 [==============================] - 27s 505ms/step - loss: 0.3406 - accuracy: 0.8669 - val_loss: 0.3052 - val_accuracy: 0.8850\n",
            "Epoch 5/100\n",
            "54/54 [==============================] - 27s 500ms/step - loss: 0.3415 - accuracy: 0.8696 - val_loss: 0.3655 - val_accuracy: 0.8590\n",
            "Epoch 6/100\n",
            "54/54 [==============================] - 27s 501ms/step - loss: 0.3104 - accuracy: 0.8836 - val_loss: 0.3214 - val_accuracy: 0.8677\n",
            "Epoch 7/100\n",
            "54/54 [==============================] - 27s 504ms/step - loss: 0.3226 - accuracy: 0.8696 - val_loss: 0.2841 - val_accuracy: 0.8980\n",
            "Epoch 8/100\n",
            "54/54 [==============================] - 27s 502ms/step - loss: 0.2898 - accuracy: 0.8836 - val_loss: 0.3083 - val_accuracy: 0.8612\n",
            "Epoch 9/100\n",
            "54/54 [==============================] - 27s 506ms/step - loss: 0.2983 - accuracy: 0.8836 - val_loss: 0.2759 - val_accuracy: 0.9024\n",
            "Epoch 10/100\n",
            "54/54 [==============================] - 27s 507ms/step - loss: 0.3021 - accuracy: 0.8743 - val_loss: 0.2944 - val_accuracy: 0.8915\n",
            "Epoch 11/100\n",
            "54/54 [==============================] - 27s 500ms/step - loss: 0.2834 - accuracy: 0.8855 - val_loss: 0.2717 - val_accuracy: 0.8807\n",
            "Epoch 12/100\n",
            "54/54 [==============================] - 28s 513ms/step - loss: 0.2821 - accuracy: 0.8845 - val_loss: 0.2676 - val_accuracy: 0.8850\n",
            "Epoch 13/100\n",
            "54/54 [==============================] - 28s 514ms/step - loss: 0.3111 - accuracy: 0.8873 - val_loss: 0.2687 - val_accuracy: 0.8872\n",
            "Epoch 14/100\n",
            "54/54 [==============================] - 27s 507ms/step - loss: 0.2794 - accuracy: 0.8864 - val_loss: 0.2593 - val_accuracy: 0.8980\n",
            "Epoch 15/100\n",
            "54/54 [==============================] - 27s 504ms/step - loss: 0.2892 - accuracy: 0.8743 - val_loss: 0.2511 - val_accuracy: 0.9002\n",
            "Epoch 16/100\n",
            "54/54 [==============================] - 27s 502ms/step - loss: 0.2761 - accuracy: 0.8706 - val_loss: 0.2625 - val_accuracy: 0.8959\n",
            "Epoch 17/100\n",
            "54/54 [==============================] - 27s 496ms/step - loss: 0.2638 - accuracy: 0.8948 - val_loss: 0.2389 - val_accuracy: 0.8959\n",
            "Epoch 18/100\n",
            "54/54 [==============================] - 27s 499ms/step - loss: 0.2510 - accuracy: 0.8948 - val_loss: 0.2362 - val_accuracy: 0.8937\n",
            "Epoch 19/100\n",
            "54/54 [==============================] - 27s 509ms/step - loss: 0.2526 - accuracy: 0.9060 - val_loss: 0.2709 - val_accuracy: 0.8829\n",
            "Epoch 20/100\n",
            "54/54 [==============================] - 27s 498ms/step - loss: 0.2778 - accuracy: 0.8855 - val_loss: 0.2300 - val_accuracy: 0.9111\n",
            "Epoch 21/100\n",
            "54/54 [==============================] - 27s 499ms/step - loss: 0.2346 - accuracy: 0.9041 - val_loss: 0.2284 - val_accuracy: 0.9046\n",
            "Epoch 22/100\n",
            "54/54 [==============================] - 27s 506ms/step - loss: 0.2361 - accuracy: 0.9032 - val_loss: 0.2055 - val_accuracy: 0.9262\n",
            "Epoch 23/100\n",
            "54/54 [==============================] - 27s 493ms/step - loss: 0.2324 - accuracy: 0.9060 - val_loss: 0.2176 - val_accuracy: 0.9067\n",
            "Epoch 24/100\n",
            "54/54 [==============================] - 27s 502ms/step - loss: 0.2577 - accuracy: 0.9004 - val_loss: 0.2465 - val_accuracy: 0.9067\n",
            "Epoch 25/100\n",
            "54/54 [==============================] - 27s 501ms/step - loss: 0.2403 - accuracy: 0.8929 - val_loss: 0.2587 - val_accuracy: 0.9024\n",
            "Epoch 26/100\n",
            "54/54 [==============================] - 27s 502ms/step - loss: 0.2645 - accuracy: 0.9013 - val_loss: 0.2682 - val_accuracy: 0.9002\n",
            "Epoch 27/100\n",
            "54/54 [==============================] - 27s 497ms/step - loss: 0.2233 - accuracy: 0.9134 - val_loss: 0.2031 - val_accuracy: 0.9132\n",
            "Epoch 28/100\n",
            "54/54 [==============================] - 27s 497ms/step - loss: 0.2215 - accuracy: 0.9134 - val_loss: 0.2285 - val_accuracy: 0.9154\n",
            "Epoch 29/100\n",
            "54/54 [==============================] - 27s 497ms/step - loss: 0.2137 - accuracy: 0.9115 - val_loss: 0.2114 - val_accuracy: 0.9132\n",
            "Epoch 30/100\n",
            "54/54 [==============================] - 27s 502ms/step - loss: 0.1998 - accuracy: 0.9264 - val_loss: 0.1941 - val_accuracy: 0.9262\n",
            "Epoch 31/100\n",
            "54/54 [==============================] - 27s 504ms/step - loss: 0.2059 - accuracy: 0.9181 - val_loss: 0.1888 - val_accuracy: 0.9262\n",
            "Epoch 32/100\n",
            "54/54 [==============================] - 27s 499ms/step - loss: 0.1823 - accuracy: 0.9264 - val_loss: 0.1977 - val_accuracy: 0.9154\n",
            "Epoch 33/100\n",
            "54/54 [==============================] - 27s 501ms/step - loss: 0.2044 - accuracy: 0.9199 - val_loss: 0.1976 - val_accuracy: 0.9306\n",
            "Epoch 34/100\n",
            "54/54 [==============================] - 27s 501ms/step - loss: 0.1845 - accuracy: 0.9255 - val_loss: 0.2598 - val_accuracy: 0.8937\n",
            "Epoch 35/100\n",
            "54/54 [==============================] - 27s 494ms/step - loss: 0.1904 - accuracy: 0.9209 - val_loss: 0.1848 - val_accuracy: 0.9328\n",
            "Epoch 36/100\n",
            "54/54 [==============================] - 26s 490ms/step - loss: 0.1823 - accuracy: 0.9264 - val_loss: 0.2561 - val_accuracy: 0.8915\n",
            "Epoch 37/100\n",
            "54/54 [==============================] - 26s 489ms/step - loss: 0.1812 - accuracy: 0.9348 - val_loss: 0.2000 - val_accuracy: 0.9328\n",
            "Epoch 38/100\n",
            "54/54 [==============================] - 27s 493ms/step - loss: 0.1576 - accuracy: 0.9441 - val_loss: 0.1923 - val_accuracy: 0.9306\n",
            "Epoch 39/100\n",
            "54/54 [==============================] - 27s 497ms/step - loss: 0.1623 - accuracy: 0.9385 - val_loss: 0.1955 - val_accuracy: 0.9306\n",
            "Epoch 40/100\n",
            "54/54 [==============================] - 26s 491ms/step - loss: 0.1438 - accuracy: 0.9451 - val_loss: 0.2110 - val_accuracy: 0.9219\n",
            "Epoch 41/100\n",
            "54/54 [==============================] - 26s 490ms/step - loss: 0.1516 - accuracy: 0.9441 - val_loss: 0.1805 - val_accuracy: 0.9284\n",
            "Epoch 42/100\n",
            "54/54 [==============================] - 27s 499ms/step - loss: 0.1425 - accuracy: 0.9441 - val_loss: 0.1904 - val_accuracy: 0.9284\n",
            "Epoch 43/100\n",
            "54/54 [==============================] - 27s 503ms/step - loss: 0.1363 - accuracy: 0.9469 - val_loss: 0.1653 - val_accuracy: 0.9458\n",
            "Epoch 44/100\n",
            "54/54 [==============================] - 27s 497ms/step - loss: 0.0996 - accuracy: 0.9693 - val_loss: 0.1751 - val_accuracy: 0.9393\n",
            "Epoch 45/100\n",
            "54/54 [==============================] - 27s 492ms/step - loss: 0.1018 - accuracy: 0.9609 - val_loss: 0.1842 - val_accuracy: 0.9328\n",
            "Epoch 46/100\n",
            "54/54 [==============================] - 26s 490ms/step - loss: 0.1133 - accuracy: 0.9600 - val_loss: 0.1808 - val_accuracy: 0.9349\n",
            "Epoch 47/100\n",
            "54/54 [==============================] - 26s 489ms/step - loss: 0.0976 - accuracy: 0.9581 - val_loss: 0.1896 - val_accuracy: 0.9436\n",
            "Epoch 48/100\n",
            "54/54 [==============================] - 27s 495ms/step - loss: 0.1006 - accuracy: 0.9544 - val_loss: 0.1927 - val_accuracy: 0.9284\n",
            "Epoch 49/100\n",
            "54/54 [==============================] - 26s 490ms/step - loss: 0.0970 - accuracy: 0.9646 - val_loss: 0.1987 - val_accuracy: 0.9349\n",
            "Epoch 50/100\n",
            "54/54 [==============================] - 27s 505ms/step - loss: 0.0805 - accuracy: 0.9693 - val_loss: 0.1602 - val_accuracy: 0.9479\n",
            "Epoch 51/100\n",
            "54/54 [==============================] - 27s 504ms/step - loss: 0.0573 - accuracy: 0.9795 - val_loss: 0.1658 - val_accuracy: 0.9501\n",
            "Epoch 52/100\n",
            "54/54 [==============================] - 26s 489ms/step - loss: 0.0595 - accuracy: 0.9786 - val_loss: 0.1641 - val_accuracy: 0.9458\n",
            "Epoch 53/100\n",
            "54/54 [==============================] - 27s 495ms/step - loss: 0.0471 - accuracy: 0.9777 - val_loss: 0.1423 - val_accuracy: 0.9566\n",
            "Epoch 54/100\n",
            "54/54 [==============================] - 27s 496ms/step - loss: 0.0599 - accuracy: 0.9814 - val_loss: 0.2039 - val_accuracy: 0.9176\n",
            "Epoch 55/100\n",
            "54/54 [==============================] - 27s 492ms/step - loss: 0.0688 - accuracy: 0.9758 - val_loss: 0.1459 - val_accuracy: 0.9436\n",
            "Epoch 56/100\n",
            "54/54 [==============================] - 26s 488ms/step - loss: 0.0802 - accuracy: 0.9711 - val_loss: 0.1519 - val_accuracy: 0.9610\n",
            "Epoch 57/100\n",
            "54/54 [==============================] - 26s 489ms/step - loss: 0.0459 - accuracy: 0.9842 - val_loss: 0.1679 - val_accuracy: 0.9458\n",
            "Epoch 58/100\n",
            "54/54 [==============================] - 27s 493ms/step - loss: 0.0310 - accuracy: 0.9879 - val_loss: 0.1543 - val_accuracy: 0.9588\n",
            "Epoch 59/100\n",
            "54/54 [==============================] - 27s 493ms/step - loss: 0.0517 - accuracy: 0.9786 - val_loss: 0.1022 - val_accuracy: 0.9653\n",
            "Epoch 60/100\n",
            "54/54 [==============================] - 27s 496ms/step - loss: 0.0296 - accuracy: 0.9898 - val_loss: 0.1633 - val_accuracy: 0.9501\n",
            "Epoch 61/100\n",
            "54/54 [==============================] - 27s 494ms/step - loss: 0.0341 - accuracy: 0.9879 - val_loss: 0.1926 - val_accuracy: 0.9458\n",
            "Epoch 62/100\n",
            "54/54 [==============================] - 26s 491ms/step - loss: 0.0350 - accuracy: 0.9870 - val_loss: 0.1886 - val_accuracy: 0.9544\n",
            "Epoch 63/100\n",
            "54/54 [==============================] - 27s 495ms/step - loss: 0.0366 - accuracy: 0.9898 - val_loss: 0.1904 - val_accuracy: 0.9414\n",
            "Epoch 64/100\n",
            "54/54 [==============================] - 26s 490ms/step - loss: 0.0145 - accuracy: 0.9963 - val_loss: 0.1853 - val_accuracy: 0.9588\n",
            "Epoch 65/100\n",
            "54/54 [==============================] - 27s 491ms/step - loss: 0.0092 - accuracy: 0.9981 - val_loss: 0.1912 - val_accuracy: 0.9631\n",
            "Epoch 66/100\n",
            "54/54 [==============================] - 27s 496ms/step - loss: 0.0053 - accuracy: 0.9991 - val_loss: 0.2075 - val_accuracy: 0.9588\n",
            "Epoch 67/100\n",
            "54/54 [==============================] - 27s 491ms/step - loss: 0.0034 - accuracy: 1.0000 - val_loss: 0.1915 - val_accuracy: 0.9523\n",
            "Epoch 68/100\n",
            "54/54 [==============================] - 26s 491ms/step - loss: 0.0073 - accuracy: 0.9972 - val_loss: 0.2152 - val_accuracy: 0.9566\n",
            "Epoch 69/100\n",
            "54/54 [==============================] - 26s 489ms/step - loss: 0.0140 - accuracy: 0.9963 - val_loss: 0.1738 - val_accuracy: 0.9588\n",
            "Epoch 70/100\n",
            "54/54 [==============================] - 27s 497ms/step - loss: 0.0786 - accuracy: 0.9721 - val_loss: 0.2279 - val_accuracy: 0.9197\n",
            "Epoch 71/100\n",
            "54/54 [==============================] - 26s 491ms/step - loss: 0.0848 - accuracy: 0.9628 - val_loss: 0.1415 - val_accuracy: 0.9588\n",
            "Epoch 72/100\n",
            "54/54 [==============================] - 26s 489ms/step - loss: 0.0509 - accuracy: 0.9795 - val_loss: 0.1861 - val_accuracy: 0.9393\n",
            "Epoch 73/100\n",
            "54/54 [==============================] - 27s 494ms/step - loss: 0.0320 - accuracy: 0.9907 - val_loss: 0.1444 - val_accuracy: 0.9588\n",
            "Epoch 74/100\n",
            "54/54 [==============================] - 26s 483ms/step - loss: 0.0242 - accuracy: 0.9926 - val_loss: 0.1500 - val_accuracy: 0.9501\n",
            "Epoch 75/100\n",
            "54/54 [==============================] - 26s 488ms/step - loss: 0.0161 - accuracy: 0.9944 - val_loss: 0.1844 - val_accuracy: 0.9523\n",
            "Epoch 76/100\n",
            "54/54 [==============================] - 27s 495ms/step - loss: 0.0068 - accuracy: 0.9991 - val_loss: 0.1772 - val_accuracy: 0.9523\n",
            "Epoch 77/100\n",
            "54/54 [==============================] - 27s 499ms/step - loss: 0.0053 - accuracy: 0.9991 - val_loss: 0.2022 - val_accuracy: 0.9501\n",
            "Epoch 78/100\n",
            "54/54 [==============================] - 27s 495ms/step - loss: 0.0029 - accuracy: 1.0000 - val_loss: 0.2024 - val_accuracy: 0.9501\n",
            "Epoch 79/100\n",
            "54/54 [==============================] - 27s 492ms/step - loss: 0.0142 - accuracy: 0.9953 - val_loss: 0.1828 - val_accuracy: 0.9458\n",
            "Epoch 80/100\n",
            "54/54 [==============================] - 26s 475ms/step - loss: 0.0279 - accuracy: 0.9935 - val_loss: 0.2328 - val_accuracy: 0.9284\n",
            "Epoch 81/100\n",
            "54/54 [==============================] - 25s 465ms/step - loss: 0.0241 - accuracy: 0.9926 - val_loss: 0.1809 - val_accuracy: 0.9371\n",
            "Epoch 82/100\n",
            "54/54 [==============================] - 26s 475ms/step - loss: 0.0258 - accuracy: 0.9916 - val_loss: 0.1979 - val_accuracy: 0.9393\n",
            "Epoch 83/100\n",
            "54/54 [==============================] - 25s 469ms/step - loss: 0.0201 - accuracy: 0.9953 - val_loss: 0.1938 - val_accuracy: 0.9414\n",
            "Epoch 84/100\n",
            "54/54 [==============================] - 25s 466ms/step - loss: 0.0148 - accuracy: 0.9963 - val_loss: 0.2144 - val_accuracy: 0.9371\n",
            "Epoch 85/100\n",
            "54/54 [==============================] - 26s 474ms/step - loss: 0.0136 - accuracy: 0.9953 - val_loss: 0.1868 - val_accuracy: 0.9479\n",
            "Epoch 86/100\n",
            "54/54 [==============================] - 25s 467ms/step - loss: 0.0059 - accuracy: 0.9991 - val_loss: 0.2005 - val_accuracy: 0.9501\n",
            "Epoch 87/100\n",
            "54/54 [==============================] - 25s 468ms/step - loss: 0.0073 - accuracy: 0.9972 - val_loss: 0.2334 - val_accuracy: 0.9458\n",
            "Epoch 88/100\n",
            "54/54 [==============================] - 25s 470ms/step - loss: 0.0032 - accuracy: 1.0000 - val_loss: 0.1822 - val_accuracy: 0.9631\n",
            "Epoch 89/100\n",
            "54/54 [==============================] - 25s 469ms/step - loss: 0.0039 - accuracy: 0.9991 - val_loss: 0.2166 - val_accuracy: 0.9479\n",
            "Epoch 90/100\n",
            "54/54 [==============================] - 25s 472ms/step - loss: 0.0020 - accuracy: 1.0000 - val_loss: 0.1922 - val_accuracy: 0.9523\n",
            "Epoch 91/100\n",
            "54/54 [==============================] - 25s 466ms/step - loss: 0.0013 - accuracy: 1.0000 - val_loss: 0.2037 - val_accuracy: 0.9544\n",
            "Epoch 92/100\n",
            "54/54 [==============================] - 25s 469ms/step - loss: 7.2319e-04 - accuracy: 1.0000 - val_loss: 0.2023 - val_accuracy: 0.9566\n",
            "Epoch 93/100\n",
            "54/54 [==============================] - 25s 468ms/step - loss: 0.0017 - accuracy: 0.9991 - val_loss: 0.2578 - val_accuracy: 0.9436\n",
            "Epoch 94/100\n",
            "54/54 [==============================] - 25s 468ms/step - loss: 0.0016 - accuracy: 1.0000 - val_loss: 0.2368 - val_accuracy: 0.9458\n",
            "Epoch 95/100\n",
            "54/54 [==============================] - 25s 469ms/step - loss: 0.0574 - accuracy: 0.9832 - val_loss: 0.2280 - val_accuracy: 0.9458\n",
            "Epoch 96/100\n",
            "54/54 [==============================] - 25s 464ms/step - loss: 0.0796 - accuracy: 0.9674 - val_loss: 0.1812 - val_accuracy: 0.9479\n",
            "Epoch 97/100\n",
            "54/54 [==============================] - 25s 472ms/step - loss: 0.0347 - accuracy: 0.9907 - val_loss: 0.1956 - val_accuracy: 0.9393\n",
            "Epoch 98/100\n",
            "54/54 [==============================] - 26s 474ms/step - loss: 0.0115 - accuracy: 0.9972 - val_loss: 0.1761 - val_accuracy: 0.9544\n",
            "Epoch 99/100\n",
            "54/54 [==============================] - 25s 468ms/step - loss: 0.0209 - accuracy: 0.9926 - val_loss: 0.2444 - val_accuracy: 0.9349\n",
            "Epoch 100/100\n",
            "54/54 [==============================] - 25s 468ms/step - loss: 0.0242 - accuracy: 0.9916 - val_loss: 0.2013 - val_accuracy: 0.9458\n"
          ]
        },
        {
          "output_type": "execute_result",
          "data": {
            "text/plain": [
              "<keras.callbacks.History at 0x7f68c320ee90>"
            ]
          },
          "metadata": {},
          "execution_count": 24
        }
      ]
    },
    {
      "cell_type": "code",
      "source": [
        "# Final evaluation of the model\n",
        "scores = model.evaluate(X_test, y_test, verbose=0)\n",
        "print(\"Accuracy: %.2f%%\" % (scores[1]*100))"
      ],
      "metadata": {
        "colab": {
          "base_uri": "https://localhost:8080/"
        },
        "id": "D-yCkb7qgU8_",
        "outputId": "0866fb52-e10c-44d8-f636-8f23f5931c30"
      },
      "execution_count": null,
      "outputs": [
        {
          "output_type": "stream",
          "name": "stdout",
          "text": [
            "Accuracy: 94.58%\n"
          ]
        }
      ]
    }
  ]
}